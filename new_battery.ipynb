{
 "cells": [
  {
   "cell_type": "markdown",
   "id": "b9d30455",
   "metadata": {
    "notebookRunGroups": {
     "groupValue": "2"
    }
   },
   "source": [
    "CSS290\n",
    "Houming Ge\n",
    "\n",
    "Part 2 for 6b\n",
    "Part 1 is for 6a"
   ]
  },
  {
   "cell_type": "markdown",
   "id": "d1c16185",
   "metadata": {},
   "source": [
    "# Part 1"
   ]
  },
  {
   "cell_type": "code",
   "execution_count": 1,
   "id": "fdd85b02",
   "metadata": {},
   "outputs": [],
   "source": [
    "import numpy as np\n",
    "import pandas as pd\n",
    "import urllib.request\n",
    "import json"
   ]
  },
  {
   "cell_type": "code",
   "execution_count": 2,
   "id": "863f8f86",
   "metadata": {},
   "outputs": [],
   "source": [
    "def checkingHertz(hertz = 0.0):\n",
    "    \n",
    "    minHertz = 47.5\n",
    "    maxHertz = 52.5\n",
    "    ratioForCover = 2.5\n",
    "\n",
    "    if not isinstance(hertz, float):\n",
    "        raise Exception('Hertz is not in the number for ' + hertz)\n",
    "    \n",
    "    if hertz < minHertz : \n",
    "        return 1.0;\n",
    "    if hertz > maxHertz :\n",
    "        return -1.0;\n",
    "\n",
    "    if hertz <= 50.2 and hertz >= 49.8:\n",
    "        return 0;\n",
    "\n",
    "    if hertz > 50.2 :\n",
    "        return ((hertz - minHertz) / ratioForCover -1) * -1\n",
    "\n",
    "    return 1 - (hertz - minHertz) / ratioForCover "
   ]
  },
  {
   "cell_type": "code",
   "execution_count": 3,
   "id": "1bb134c5",
   "metadata": {},
   "outputs": [
    {
     "name": "stdout",
     "output_type": "stream",
     "text": [
      "1.0\n",
      "-1.0\n",
      "-1.0\n",
      "1.0\n",
      "-0.9999599999999986\n"
     ]
    }
   ],
   "source": [
    "# Testing the funcation is working or not\n",
    "print(checkingHertz(0.0))\n",
    "print(checkingHertz(100.0))\n",
    "print(checkingHertz(52.5))\n",
    "print(checkingHertz(47.5))\n",
    "print(checkingHertz(52.4999))"
   ]
  },
  {
   "cell_type": "code",
   "execution_count": 4,
   "id": "448fd7d0",
   "metadata": {},
   "outputs": [],
   "source": [
    "from sklearn.linear_model import LinearRegression"
   ]
  },
  {
   "cell_type": "code",
   "execution_count": 5,
   "id": "540f971d",
   "metadata": {},
   "outputs": [
    {
     "name": "stdout",
     "output_type": "stream",
     "text": [
      "[46.  46.1 46.2 46.3 46.4 46.5 46.6 46.7 46.8 46.9 47.  47.1 47.2 47.3\n",
      " 47.4 47.5 47.6 47.7 47.8 47.9 48.  48.1 48.2 48.3 48.4 48.5 48.6 48.7\n",
      " 48.8 48.9 49.  49.1 49.2 49.3 49.4 49.5 49.6 49.7 49.8 49.9 50.  50.1\n",
      " 50.2 50.3 50.4 50.5 50.6 50.7 50.8 50.9 51.  51.1 51.2 51.3 51.4 51.5\n",
      " 51.6 51.7 51.8 51.9 52.  52.1 52.2 52.3 52.4 52.5 52.6 52.7 52.8 52.9\n",
      " 53.  53.1 53.2 53.3 53.4 53.5 53.6 53.7 53.8 53.9 54. ]\n"
     ]
    }
   ],
   "source": [
    "freqs = np.linspace(46, 54, num=81)\n",
    "print(freqs)"
   ]
  },
  {
   "cell_type": "code",
   "execution_count": 6,
   "id": "7daaf78b",
   "metadata": {},
   "outputs": [
    {
     "data": {
      "application/vnd.microsoft.datawrangler.viewer.v0+json": {
       "columns": [
        {
         "name": "index",
         "rawType": "int64",
         "type": "integer"
        },
        {
         "name": "frequency",
         "rawType": "float64",
         "type": "float"
        },
        {
         "name": "value",
         "rawType": "float64",
         "type": "float"
        }
       ],
       "conversionMethod": "pd.DataFrame",
       "ref": "3bb87f3d-af3a-4af0-84fc-7a96dfaf6e9b",
       "rows": [
        [
         "0",
         "46.0",
         "1.0"
        ],
        [
         "1",
         "46.1",
         "1.0"
        ],
        [
         "2",
         "46.2",
         "1.0"
        ],
        [
         "3",
         "46.3",
         "1.0"
        ],
        [
         "4",
         "46.4",
         "1.0"
        ],
        [
         "5",
         "46.5",
         "1.0"
        ],
        [
         "6",
         "46.6",
         "1.0"
        ],
        [
         "7",
         "46.7",
         "1.0"
        ],
        [
         "8",
         "46.8",
         "1.0"
        ],
        [
         "9",
         "46.9",
         "1.0"
        ],
        [
         "10",
         "47.0",
         "1.0"
        ],
        [
         "11",
         "47.1",
         "1.0"
        ],
        [
         "12",
         "47.2",
         "1.0"
        ],
        [
         "13",
         "47.3",
         "1.0"
        ],
        [
         "14",
         "47.4",
         "1.0"
        ],
        [
         "15",
         "47.5",
         "1.0"
        ],
        [
         "16",
         "47.6",
         "0.9599999999999994"
        ],
        [
         "17",
         "47.7",
         "0.9199999999999988"
        ],
        [
         "18",
         "47.8",
         "0.8800000000000011"
        ],
        [
         "19",
         "47.9",
         "0.8400000000000005"
        ],
        [
         "20",
         "48.0",
         "0.8"
        ],
        [
         "21",
         "48.1",
         "0.7599999999999995"
        ],
        [
         "22",
         "48.2",
         "0.7199999999999989"
        ],
        [
         "23",
         "48.3",
         "0.6800000000000012"
        ],
        [
         "24",
         "48.4",
         "0.6400000000000006"
        ],
        [
         "25",
         "48.5",
         "0.6"
        ],
        [
         "26",
         "48.6",
         "0.5599999999999994"
        ],
        [
         "27",
         "48.7",
         "0.5199999999999989"
        ],
        [
         "28",
         "48.8",
         "0.4800000000000011"
        ],
        [
         "29",
         "48.9",
         "0.4400000000000006"
        ],
        [
         "30",
         "49.0",
         "0.4"
        ],
        [
         "31",
         "49.1",
         "0.35999999999999943"
        ],
        [
         "32",
         "49.2",
         "0.31999999999999884"
        ],
        [
         "33",
         "49.3",
         "0.28000000000000114"
        ],
        [
         "34",
         "49.4",
         "0.24000000000000055"
        ],
        [
         "35",
         "49.5",
         "0.19999999999999996"
        ],
        [
         "36",
         "49.6",
         "0.15999999999999948"
        ],
        [
         "37",
         "49.7",
         "0.11999999999999889"
        ],
        [
         "38",
         "49.8",
         "0.0"
        ],
        [
         "39",
         "49.9",
         "0.0"
        ],
        [
         "40",
         "50.0",
         "0.0"
        ],
        [
         "41",
         "50.1",
         "0.0"
        ],
        [
         "42",
         "50.2",
         "0.0"
        ],
        [
         "43",
         "50.3",
         "-0.11999999999999877"
        ],
        [
         "44",
         "50.4",
         "-0.15999999999999948"
        ],
        [
         "45",
         "50.5",
         "-0.19999999999999996"
        ],
        [
         "46",
         "50.6",
         "-0.24000000000000066"
        ],
        [
         "47",
         "50.7",
         "-0.28000000000000114"
        ],
        [
         "48",
         "50.8",
         "-0.31999999999999895"
        ],
        [
         "49",
         "50.9",
         "-0.35999999999999943"
        ]
       ],
       "shape": {
        "columns": 2,
        "rows": 81
       }
      },
      "text/html": [
       "<div>\n",
       "<style scoped>\n",
       "    .dataframe tbody tr th:only-of-type {\n",
       "        vertical-align: middle;\n",
       "    }\n",
       "\n",
       "    .dataframe tbody tr th {\n",
       "        vertical-align: top;\n",
       "    }\n",
       "\n",
       "    .dataframe thead th {\n",
       "        text-align: right;\n",
       "    }\n",
       "</style>\n",
       "<table border=\"1\" class=\"dataframe\">\n",
       "  <thead>\n",
       "    <tr style=\"text-align: right;\">\n",
       "      <th></th>\n",
       "      <th>frequency</th>\n",
       "      <th>value</th>\n",
       "    </tr>\n",
       "  </thead>\n",
       "  <tbody>\n",
       "    <tr>\n",
       "      <th>0</th>\n",
       "      <td>46.0</td>\n",
       "      <td>1.0</td>\n",
       "    </tr>\n",
       "    <tr>\n",
       "      <th>1</th>\n",
       "      <td>46.1</td>\n",
       "      <td>1.0</td>\n",
       "    </tr>\n",
       "    <tr>\n",
       "      <th>2</th>\n",
       "      <td>46.2</td>\n",
       "      <td>1.0</td>\n",
       "    </tr>\n",
       "    <tr>\n",
       "      <th>3</th>\n",
       "      <td>46.3</td>\n",
       "      <td>1.0</td>\n",
       "    </tr>\n",
       "    <tr>\n",
       "      <th>4</th>\n",
       "      <td>46.4</td>\n",
       "      <td>1.0</td>\n",
       "    </tr>\n",
       "    <tr>\n",
       "      <th>...</th>\n",
       "      <td>...</td>\n",
       "      <td>...</td>\n",
       "    </tr>\n",
       "    <tr>\n",
       "      <th>76</th>\n",
       "      <td>53.6</td>\n",
       "      <td>-1.0</td>\n",
       "    </tr>\n",
       "    <tr>\n",
       "      <th>77</th>\n",
       "      <td>53.7</td>\n",
       "      <td>-1.0</td>\n",
       "    </tr>\n",
       "    <tr>\n",
       "      <th>78</th>\n",
       "      <td>53.8</td>\n",
       "      <td>-1.0</td>\n",
       "    </tr>\n",
       "    <tr>\n",
       "      <th>79</th>\n",
       "      <td>53.9</td>\n",
       "      <td>-1.0</td>\n",
       "    </tr>\n",
       "    <tr>\n",
       "      <th>80</th>\n",
       "      <td>54.0</td>\n",
       "      <td>-1.0</td>\n",
       "    </tr>\n",
       "  </tbody>\n",
       "</table>\n",
       "<p>81 rows × 2 columns</p>\n",
       "</div>"
      ],
      "text/plain": [
       "    frequency  value\n",
       "0        46.0    1.0\n",
       "1        46.1    1.0\n",
       "2        46.2    1.0\n",
       "3        46.3    1.0\n",
       "4        46.4    1.0\n",
       "..        ...    ...\n",
       "76       53.6   -1.0\n",
       "77       53.7   -1.0\n",
       "78       53.8   -1.0\n",
       "79       53.9   -1.0\n",
       "80       54.0   -1.0\n",
       "\n",
       "[81 rows x 2 columns]"
      ]
     },
     "execution_count": 6,
     "metadata": {},
     "output_type": "execute_result"
    }
   ],
   "source": [
    "freq_x = pd.Series(freqs)\n",
    "freq_y = freq_x.apply(checkingHertz)\n",
    "\n",
    "df_freq = pd.DataFrame({'frequency': freq_x, 'value': freq_y})\n",
    "\n",
    "df_freq"
   ]
  },
  {
   "cell_type": "code",
   "execution_count": 7,
   "id": "4a482971",
   "metadata": {},
   "outputs": [
    {
     "data": {
      "text/plain": [
       "<Axes: xlabel='frequency(HZ)'>"
      ]
     },
     "execution_count": 7,
     "metadata": {},
     "output_type": "execute_result"
    },
    {
     "data": {
      "image/png": "[encoded data removed]",
      "text/plain": [
       "<Figure size 640x480 with 1 Axes>"
      ]
     },
     "metadata": {},
     "output_type": "display_data"
    }
   ],
   "source": [
    "df_Output = pd.DataFrame({'value': freq_y})\n",
    "df_Output.plot(kind='line',  xlabel='frequency(HZ)')"
   ]
  },
  {
   "cell_type": "code",
   "execution_count": 8,
   "id": "51f95eb4",
   "metadata": {},
   "outputs": [],
   "source": [
    "import numpy as np\n",
    "import pandas as pd\n",
    "import urllib.request\n",
    "import json"
   ]
  },
  {
   "cell_type": "code",
   "execution_count": 9,
   "id": "ecd0ad68",
   "metadata": {},
   "outputs": [],
   "source": [
    "def checkingHertz(hertz = 0.0):\n",
    "    \n",
    "    minHertz = 47.5\n",
    "    maxHertz = 52.5\n",
    "    ratioForCover = 2.5\n",
    "\n",
    "    if not isinstance(hertz, float):\n",
    "        raise Exception('Hertz is not in the number for ' + hertz)\n",
    "    \n",
    "    if hertz < minHertz : \n",
    "        return 1.0;\n",
    "    if hertz > maxHertz :\n",
    "        return -1.0;\n",
    "\n",
    "    if hertz <= 50.2 and hertz >= 49.8:\n",
    "        return 0;\n",
    "\n",
    "    if hertz > 50.2 :\n",
    "        return ((hertz - minHertz) / ratioForCover -1) * -1\n",
    "\n",
    "    return 1 - (hertz - minHertz) / ratioForCover "
   ]
  },
  {
   "cell_type": "code",
   "execution_count": 10,
   "id": "b87bd0c8",
   "metadata": {},
   "outputs": [
    {
     "name": "stdout",
     "output_type": "stream",
     "text": [
      "1.0\n",
      "-1.0\n",
      "-1.0\n",
      "1.0\n",
      "-0.9999599999999986\n"
     ]
    }
   ],
   "source": [
    "# Testing the funcation is working or not\n",
    "print(checkingHertz(0.0))\n",
    "print(checkingHertz(100.0))\n",
    "print(checkingHertz(52.5))\n",
    "print(checkingHertz(47.5))\n",
    "print(checkingHertz(52.4999))"
   ]
  },
  {
   "cell_type": "code",
   "execution_count": 11,
   "id": "65fa0d33",
   "metadata": {},
   "outputs": [],
   "source": [
    "from sklearn.linear_model import LinearRegression"
   ]
  },
  {
   "cell_type": "code",
   "execution_count": 12,
   "id": "da9e63f0",
   "metadata": {},
   "outputs": [
    {
     "name": "stdout",
     "output_type": "stream",
     "text": [
      "[46.  46.1 46.2 46.3 46.4 46.5 46.6 46.7 46.8 46.9 47.  47.1 47.2 47.3\n",
      " 47.4 47.5 47.6 47.7 47.8 47.9 48.  48.1 48.2 48.3 48.4 48.5 48.6 48.7\n",
      " 48.8 48.9 49.  49.1 49.2 49.3 49.4 49.5 49.6 49.7 49.8 49.9 50.  50.1\n",
      " 50.2 50.3 50.4 50.5 50.6 50.7 50.8 50.9 51.  51.1 51.2 51.3 51.4 51.5\n",
      " 51.6 51.7 51.8 51.9 52.  52.1 52.2 52.3 52.4 52.5 52.6 52.7 52.8 52.9\n",
      " 53.  53.1 53.2 53.3 53.4 53.5 53.6 53.7 53.8 53.9 54. ]\n"
     ]
    }
   ],
   "source": [
    "freqs = np.linspace(46, 54, num=81)\n",
    "print(freqs)"
   ]
  },
  {
   "cell_type": "code",
   "execution_count": 13,
   "id": "941f420c",
   "metadata": {},
   "outputs": [
    {
     "data": {
      "application/vnd.microsoft.datawrangler.viewer.v0+json": {
       "columns": [
        {
         "name": "index",
         "rawType": "int64",
         "type": "integer"
        },
        {
         "name": "frequency",
         "rawType": "float64",
         "type": "float"
        },
        {
         "name": "value",
         "rawType": "float64",
         "type": "float"
        }
       ],
       "conversionMethod": "pd.DataFrame",
       "ref": "d00f553c-5e17-4f66-9fb7-71494d08442b",
       "rows": [
        [
         "0",
         "46.0",
         "1.0"
        ],
        [
         "1",
         "46.1",
         "1.0"
        ],
        [
         "2",
         "46.2",
         "1.0"
        ],
        [
         "3",
         "46.3",
         "1.0"
        ],
        [
         "4",
         "46.4",
         "1.0"
        ],
        [
         "5",
         "46.5",
         "1.0"
        ],
        [
         "6",
         "46.6",
         "1.0"
        ],
        [
         "7",
         "46.7",
         "1.0"
        ],
        [
         "8",
         "46.8",
         "1.0"
        ],
        [
         "9",
         "46.9",
         "1.0"
        ],
        [
         "10",
         "47.0",
         "1.0"
        ],
        [
         "11",
         "47.1",
         "1.0"
        ],
        [
         "12",
         "47.2",
         "1.0"
        ],
        [
         "13",
         "47.3",
         "1.0"
        ],
        [
         "14",
         "47.4",
         "1.0"
        ],
        [
         "15",
         "47.5",
         "1.0"
        ],
        [
         "16",
         "47.6",
         "0.9599999999999994"
        ],
        [
         "17",
         "47.7",
         "0.9199999999999988"
        ],
        [
         "18",
         "47.8",
         "0.8800000000000011"
        ],
        [
         "19",
         "47.9",
         "0.8400000000000005"
        ],
        [
         "20",
         "48.0",
         "0.8"
        ],
        [
         "21",
         "48.1",
         "0.7599999999999995"
        ],
        [
         "22",
         "48.2",
         "0.7199999999999989"
        ],
        [
         "23",
         "48.3",
         "0.6800000000000012"
        ],
        [
         "24",
         "48.4",
         "0.6400000000000006"
        ],
        [
         "25",
         "48.5",
         "0.6"
        ],
        [
         "26",
         "48.6",
         "0.5599999999999994"
        ],
        [
         "27",
         "48.7",
         "0.5199999999999989"
        ],
        [
         "28",
         "48.8",
         "0.4800000000000011"
        ],
        [
         "29",
         "48.9",
         "0.4400000000000006"
        ],
        [
         "30",
         "49.0",
         "0.4"
        ],
        [
         "31",
         "49.1",
         "0.35999999999999943"
        ],
        [
         "32",
         "49.2",
         "0.31999999999999884"
        ],
        [
         "33",
         "49.3",
         "0.28000000000000114"
        ],
        [
         "34",
         "49.4",
         "0.24000000000000055"
        ],
        [
         "35",
         "49.5",
         "0.19999999999999996"
        ],
        [
         "36",
         "49.6",
         "0.15999999999999948"
        ],
        [
         "37",
         "49.7",
         "0.11999999999999889"
        ],
        [
         "38",
         "49.8",
         "0.0"
        ],
        [
         "39",
         "49.9",
         "0.0"
        ],
        [
         "40",
         "50.0",
         "0.0"
        ],
        [
         "41",
         "50.1",
         "0.0"
        ],
        [
         "42",
         "50.2",
         "0.0"
        ],
        [
         "43",
         "50.3",
         "-0.11999999999999877"
        ],
        [
         "44",
         "50.4",
         "-0.15999999999999948"
        ],
        [
         "45",
         "50.5",
         "-0.19999999999999996"
        ],
        [
         "46",
         "50.6",
         "-0.24000000000000066"
        ],
        [
         "47",
         "50.7",
         "-0.28000000000000114"
        ],
        [
         "48",
         "50.8",
         "-0.31999999999999895"
        ],
        [
         "49",
         "50.9",
         "-0.35999999999999943"
        ]
       ],
       "shape": {
        "columns": 2,
        "rows": 81
       }
      },
      "text/html": [
       "<div>\n",
       "<style scoped>\n",
       "    .dataframe tbody tr th:only-of-type {\n",
       "        vertical-align: middle;\n",
       "    }\n",
       "\n",
       "    .dataframe tbody tr th {\n",
       "        vertical-align: top;\n",
       "    }\n",
       "\n",
       "    .dataframe thead th {\n",
       "        text-align: right;\n",
       "    }\n",
       "</style>\n",
       "<table border=\"1\" class=\"dataframe\">\n",
       "  <thead>\n",
       "    <tr style=\"text-align: right;\">\n",
       "      <th></th>\n",
       "      <th>frequency</th>\n",
       "      <th>value</th>\n",
       "    </tr>\n",
       "  </thead>\n",
       "  <tbody>\n",
       "    <tr>\n",
       "      <th>0</th>\n",
       "      <td>46.0</td>\n",
       "      <td>1.0</td>\n",
       "    </tr>\n",
       "    <tr>\n",
       "      <th>1</th>\n",
       "      <td>46.1</td>\n",
       "      <td>1.0</td>\n",
       "    </tr>\n",
       "    <tr>\n",
       "      <th>2</th>\n",
       "      <td>46.2</td>\n",
       "      <td>1.0</td>\n",
       "    </tr>\n",
       "    <tr>\n",
       "      <th>3</th>\n",
       "      <td>46.3</td>\n",
       "      <td>1.0</td>\n",
       "    </tr>\n",
       "    <tr>\n",
       "      <th>4</th>\n",
       "      <td>46.4</td>\n",
       "      <td>1.0</td>\n",
       "    </tr>\n",
       "    <tr>\n",
       "      <th>...</th>\n",
       "      <td>...</td>\n",
       "      <td>...</td>\n",
       "    </tr>\n",
       "    <tr>\n",
       "      <th>76</th>\n",
       "      <td>53.6</td>\n",
       "      <td>-1.0</td>\n",
       "    </tr>\n",
       "    <tr>\n",
       "      <th>77</th>\n",
       "      <td>53.7</td>\n",
       "      <td>-1.0</td>\n",
       "    </tr>\n",
       "    <tr>\n",
       "      <th>78</th>\n",
       "      <td>53.8</td>\n",
       "      <td>-1.0</td>\n",
       "    </tr>\n",
       "    <tr>\n",
       "      <th>79</th>\n",
       "      <td>53.9</td>\n",
       "      <td>-1.0</td>\n",
       "    </tr>\n",
       "    <tr>\n",
       "      <th>80</th>\n",
       "      <td>54.0</td>\n",
       "      <td>-1.0</td>\n",
       "    </tr>\n",
       "  </tbody>\n",
       "</table>\n",
       "<p>81 rows × 2 columns</p>\n",
       "</div>"
      ],
      "text/plain": [
       "    frequency  value\n",
       "0        46.0    1.0\n",
       "1        46.1    1.0\n",
       "2        46.2    1.0\n",
       "3        46.3    1.0\n",
       "4        46.4    1.0\n",
       "..        ...    ...\n",
       "76       53.6   -1.0\n",
       "77       53.7   -1.0\n",
       "78       53.8   -1.0\n",
       "79       53.9   -1.0\n",
       "80       54.0   -1.0\n",
       "\n",
       "[81 rows x 2 columns]"
      ]
     },
     "execution_count": 13,
     "metadata": {},
     "output_type": "execute_result"
    }
   ],
   "source": [
    "freq_x = pd.Series(freqs)\n",
    "freq_y = freq_x.apply(checkingHertz)\n",
    "\n",
    "df_freq = pd.DataFrame({'frequency': freq_x, 'value': freq_y})\n",
    "\n",
    "df_freq"
   ]
  },
  {
   "cell_type": "code",
   "execution_count": 14,
   "id": "a20ca883",
   "metadata": {},
   "outputs": [
    {
     "data": {
      "text/plain": [
       "<Axes: xlabel='frequency(HZ)'>"
      ]
     },
     "execution_count": 14,
     "metadata": {},
     "output_type": "execute_result"
    },
    {
     "data": {
      "image/png": "[encoded data removed]",
      "text/plain": [
       "<Figure size 640x480 with 1 Axes>"
      ]
     },
     "metadata": {},
     "output_type": "display_data"
    }
   ],
   "source": [
    "df_Output = pd.DataFrame({'value': freq_y})\n",
    "df_Output.plot(kind='line',  xlabel='frequency(HZ)')"
   ]
  },
  {
   "cell_type": "markdown",
   "id": "2de1053a",
   "metadata": {},
   "source": [
    "# PArt 2 for 6B"
   ]
  },
  {
   "cell_type": "code",
   "execution_count": 15,
   "id": "404824dc",
   "metadata": {},
   "outputs": [],
   "source": [
    "url_frequency = 'https://studentswebservice-7w3tw.ondigitalocean.app/frequency'\n"
   ]
  },
  {
   "cell_type": "code",
   "execution_count": 17,
   "id": "026441c7",
   "metadata": {},
   "outputs": [
    {
     "data": {
      "text/plain": [
       "b'{\"frequency\":50.0,\"timestampUtc\":\"2025-05-09T18:57:41.084600\"}\\n'"
      ]
     },
     "execution_count": 17,
     "metadata": {},
     "output_type": "execute_result"
    }
   ],
   "source": [
    "response = urllib.request.urlopen(url_frequency).read()\n",
    "response "
   ]
  },
  {
   "cell_type": "code",
   "execution_count": null,
   "id": "d077a698",
   "metadata": {},
   "outputs": [
    {
     "name": "stdout",
     "output_type": "stream",
     "text": [
      "frequency: 51.71228733459363   power:  -20.547448015123596 L?:  b'{\"frequency\":51.30955798471279,\"timestampUtc\":\"2025-05-09T19:38:12.821086\"}\\n'\n",
      "frequency: 51.30955798471279   power:  -15.71469581655347 L?:  b'{\"frequency\":51.0076860720195,\"timestampUtc\":\"2025-05-09T19:38:13.850651\"}\\n'\n",
      "frequency: 51.0076860720195   power:  -12.092232864234036 L?:  b'{\"frequency\":50.88676374337716,\"timestampUtc\":\"2025-05-09T19:38:14.692736\"}\\n'\n",
      "frequency: 50.781413386157226   power:  -9.37696063388671 L?:  b'{\"frequency\":50.611807251189155,\"timestampUtc\":\"2025-05-09T19:38:15.768577\"}\\n'\n",
      "frequency: 50.558093261903615   power:  -6.69711914284338 L?:  b'{\"frequency\":50.49112207047518,\"timestampUtc\":\"2025-05-09T19:38:16.798489\"}\\n'\n",
      "frequency: 50.49112207047518   power:  -5.893464845702141 L?:  b'{\"frequency\":50.43218742201816,\"timestampUtc\":\"2025-05-09T19:38:17.654710\"}\\n'\n",
      "frequency: 50.43218742201816   power:  -5.186249064217918 L?:  b'{\"frequency\":50.35003961546057,\"timestampUtc\":\"2025-05-09T19:38:18.762098\"}\\n'\n",
      "frequency: 50.33046923083528   power:  -3.965630770023323 L?:  b'{\"frequency\":50.29081292313504,\"timestampUtc\":\"2025-05-09T19:38:19.776012\"}\\n'\n",
      "frequency: 50.29081292313504   power:  -3.4897550776205177 L?:  b'{\"frequency\":50.255915372358835,\"timestampUtc\":\"2025-05-09T19:38:20.546864\"}\\n'\n",
      "frequency: 50.244070208471655   power:  -2.9288425016598607 L?:  b'{\"frequency\":50.20903349539354,\"timestampUtc\":\"2025-05-09T19:38:21.507091\"}\\n'\n",
      "frequency: 50.20903349539354   power:  -2.508401944722496 L?:  b'{\"frequency\":50.182771193938464,\"timestampUtc\":\"2025-05-09T19:38:22.463046\"}\\n'\n"
     ]
    },
    {
     "ename": "KeyboardInterrupt",
     "evalue": "",
     "output_type": "error",
     "traceback": [
      "\u001b[1;31m---------------------------------------------------------------------------\u001b[0m",
      "\u001b[1;31mKeyboardInterrupt\u001b[0m                         Traceback (most recent call last)",
      "Cell \u001b[1;32mIn[43], line 9\u001b[0m\n\u001b[0;32m      4\u001b[0m url_power \u001b[38;5;241m=\u001b[39m \u001b[38;5;124m'\u001b[39m\u001b[38;5;124mhttps://studentswebservice-7w3tw.ondigitalocean.app/power?kW=\u001b[39m\u001b[38;5;124m'\u001b[39m\n\u001b[0;32m      7\u001b[0m \u001b[38;5;28;01mfor\u001b[39;00m i \u001b[38;5;129;01min\u001b[39;00m \u001b[38;5;28mrange\u001b[39m(\u001b[38;5;241m0\u001b[39m, \u001b[38;5;241m100\u001b[39m):\n\u001b[1;32m----> 9\u001b[0m     response \u001b[38;5;241m=\u001b[39m \u001b[43murllib\u001b[49m\u001b[38;5;241;43m.\u001b[39;49m\u001b[43mrequest\u001b[49m\u001b[38;5;241;43m.\u001b[39;49m\u001b[43murlopen\u001b[49m\u001b[43m(\u001b[49m\u001b[43murl_frequency\u001b[49m\u001b[43m)\u001b[49m\u001b[38;5;241m.\u001b[39mread()\n\u001b[0;32m     10\u001b[0m     data \u001b[38;5;241m=\u001b[39m json\u001b[38;5;241m.\u001b[39mloads(response)\n\u001b[0;32m     11\u001b[0m     frequency \u001b[38;5;241m=\u001b[39m data[\u001b[38;5;124m'\u001b[39m\u001b[38;5;124mfrequency\u001b[39m\u001b[38;5;124m'\u001b[39m]\n",
      "File \u001b[1;32mc:\\Users\\gehou\\AppData\\Local\\Programs\\Python\\Python311\\Lib\\urllib\\request.py:216\u001b[0m, in \u001b[0;36murlopen\u001b[1;34m(url, data, timeout, cafile, capath, cadefault, context)\u001b[0m\n\u001b[0;32m    214\u001b[0m \u001b[38;5;28;01melse\u001b[39;00m:\n\u001b[0;32m    215\u001b[0m     opener \u001b[38;5;241m=\u001b[39m _opener\n\u001b[1;32m--> 216\u001b[0m \u001b[38;5;28;01mreturn\u001b[39;00m \u001b[43mopener\u001b[49m\u001b[38;5;241;43m.\u001b[39;49m\u001b[43mopen\u001b[49m\u001b[43m(\u001b[49m\u001b[43murl\u001b[49m\u001b[43m,\u001b[49m\u001b[43m \u001b[49m\u001b[43mdata\u001b[49m\u001b[43m,\u001b[49m\u001b[43m \u001b[49m\u001b[43mtimeout\u001b[49m\u001b[43m)\u001b[49m\n",
      "File \u001b[1;32mc:\\Users\\gehou\\AppData\\Local\\Programs\\Python\\Python311\\Lib\\urllib\\request.py:519\u001b[0m, in \u001b[0;36mOpenerDirector.open\u001b[1;34m(self, fullurl, data, timeout)\u001b[0m\n\u001b[0;32m    516\u001b[0m     req \u001b[38;5;241m=\u001b[39m meth(req)\n\u001b[0;32m    518\u001b[0m sys\u001b[38;5;241m.\u001b[39maudit(\u001b[38;5;124m'\u001b[39m\u001b[38;5;124murllib.Request\u001b[39m\u001b[38;5;124m'\u001b[39m, req\u001b[38;5;241m.\u001b[39mfull_url, req\u001b[38;5;241m.\u001b[39mdata, req\u001b[38;5;241m.\u001b[39mheaders, req\u001b[38;5;241m.\u001b[39mget_method())\n\u001b[1;32m--> 519\u001b[0m response \u001b[38;5;241m=\u001b[39m \u001b[38;5;28;43mself\u001b[39;49m\u001b[38;5;241;43m.\u001b[39;49m\u001b[43m_open\u001b[49m\u001b[43m(\u001b[49m\u001b[43mreq\u001b[49m\u001b[43m,\u001b[49m\u001b[43m \u001b[49m\u001b[43mdata\u001b[49m\u001b[43m)\u001b[49m\n\u001b[0;32m    521\u001b[0m \u001b[38;5;66;03m# post-process response\u001b[39;00m\n\u001b[0;32m    522\u001b[0m meth_name \u001b[38;5;241m=\u001b[39m protocol\u001b[38;5;241m+\u001b[39m\u001b[38;5;124m\"\u001b[39m\u001b[38;5;124m_response\u001b[39m\u001b[38;5;124m\"\u001b[39m\n",
      "File \u001b[1;32mc:\\Users\\gehou\\AppData\\Local\\Programs\\Python\\Python311\\Lib\\urllib\\request.py:536\u001b[0m, in \u001b[0;36mOpenerDirector._open\u001b[1;34m(self, req, data)\u001b[0m\n\u001b[0;32m    533\u001b[0m     \u001b[38;5;28;01mreturn\u001b[39;00m result\n\u001b[0;32m    535\u001b[0m protocol \u001b[38;5;241m=\u001b[39m req\u001b[38;5;241m.\u001b[39mtype\n\u001b[1;32m--> 536\u001b[0m result \u001b[38;5;241m=\u001b[39m \u001b[38;5;28;43mself\u001b[39;49m\u001b[38;5;241;43m.\u001b[39;49m\u001b[43m_call_chain\u001b[49m\u001b[43m(\u001b[49m\u001b[38;5;28;43mself\u001b[39;49m\u001b[38;5;241;43m.\u001b[39;49m\u001b[43mhandle_open\u001b[49m\u001b[43m,\u001b[49m\u001b[43m \u001b[49m\u001b[43mprotocol\u001b[49m\u001b[43m,\u001b[49m\u001b[43m \u001b[49m\u001b[43mprotocol\u001b[49m\u001b[43m \u001b[49m\u001b[38;5;241;43m+\u001b[39;49m\n\u001b[0;32m    537\u001b[0m \u001b[43m                          \u001b[49m\u001b[38;5;124;43m'\u001b[39;49m\u001b[38;5;124;43m_open\u001b[39;49m\u001b[38;5;124;43m'\u001b[39;49m\u001b[43m,\u001b[49m\u001b[43m \u001b[49m\u001b[43mreq\u001b[49m\u001b[43m)\u001b[49m\n\u001b[0;32m    538\u001b[0m \u001b[38;5;28;01mif\u001b[39;00m result:\n\u001b[0;32m    539\u001b[0m     \u001b[38;5;28;01mreturn\u001b[39;00m result\n",
      "File \u001b[1;32mc:\\Users\\gehou\\AppData\\Local\\Programs\\Python\\Python311\\Lib\\urllib\\request.py:496\u001b[0m, in \u001b[0;36mOpenerDirector._call_chain\u001b[1;34m(self, chain, kind, meth_name, *args)\u001b[0m\n\u001b[0;32m    494\u001b[0m \u001b[38;5;28;01mfor\u001b[39;00m handler \u001b[38;5;129;01min\u001b[39;00m handlers:\n\u001b[0;32m    495\u001b[0m     func \u001b[38;5;241m=\u001b[39m \u001b[38;5;28mgetattr\u001b[39m(handler, meth_name)\n\u001b[1;32m--> 496\u001b[0m     result \u001b[38;5;241m=\u001b[39m \u001b[43mfunc\u001b[49m\u001b[43m(\u001b[49m\u001b[38;5;241;43m*\u001b[39;49m\u001b[43margs\u001b[49m\u001b[43m)\u001b[49m\n\u001b[0;32m    497\u001b[0m     \u001b[38;5;28;01mif\u001b[39;00m result \u001b[38;5;129;01mis\u001b[39;00m \u001b[38;5;129;01mnot\u001b[39;00m \u001b[38;5;28;01mNone\u001b[39;00m:\n\u001b[0;32m    498\u001b[0m         \u001b[38;5;28;01mreturn\u001b[39;00m result\n",
      "File \u001b[1;32mc:\\Users\\gehou\\AppData\\Local\\Programs\\Python\\Python311\\Lib\\urllib\\request.py:1391\u001b[0m, in \u001b[0;36mHTTPSHandler.https_open\u001b[1;34m(self, req)\u001b[0m\n\u001b[0;32m   1390\u001b[0m \u001b[38;5;28;01mdef\u001b[39;00m \u001b[38;5;21mhttps_open\u001b[39m(\u001b[38;5;28mself\u001b[39m, req):\n\u001b[1;32m-> 1391\u001b[0m     \u001b[38;5;28;01mreturn\u001b[39;00m \u001b[38;5;28;43mself\u001b[39;49m\u001b[38;5;241;43m.\u001b[39;49m\u001b[43mdo_open\u001b[49m\u001b[43m(\u001b[49m\u001b[43mhttp\u001b[49m\u001b[38;5;241;43m.\u001b[39;49m\u001b[43mclient\u001b[49m\u001b[38;5;241;43m.\u001b[39;49m\u001b[43mHTTPSConnection\u001b[49m\u001b[43m,\u001b[49m\u001b[43m \u001b[49m\u001b[43mreq\u001b[49m\u001b[43m,\u001b[49m\n\u001b[0;32m   1392\u001b[0m \u001b[43m        \u001b[49m\u001b[43mcontext\u001b[49m\u001b[38;5;241;43m=\u001b[39;49m\u001b[38;5;28;43mself\u001b[39;49m\u001b[38;5;241;43m.\u001b[39;49m\u001b[43m_context\u001b[49m\u001b[43m,\u001b[49m\u001b[43m \u001b[49m\u001b[43mcheck_hostname\u001b[49m\u001b[38;5;241;43m=\u001b[39;49m\u001b[38;5;28;43mself\u001b[39;49m\u001b[38;5;241;43m.\u001b[39;49m\u001b[43m_check_hostname\u001b[49m\u001b[43m)\u001b[49m\n",
      "File \u001b[1;32mc:\\Users\\gehou\\AppData\\Local\\Programs\\Python\\Python311\\Lib\\urllib\\request.py:1352\u001b[0m, in \u001b[0;36mAbstractHTTPHandler.do_open\u001b[1;34m(self, http_class, req, **http_conn_args)\u001b[0m\n\u001b[0;32m   1350\u001b[0m     \u001b[38;5;28;01mexcept\u001b[39;00m \u001b[38;5;167;01mOSError\u001b[39;00m \u001b[38;5;28;01mas\u001b[39;00m err: \u001b[38;5;66;03m# timeout error\u001b[39;00m\n\u001b[0;32m   1351\u001b[0m         \u001b[38;5;28;01mraise\u001b[39;00m URLError(err)\n\u001b[1;32m-> 1352\u001b[0m     r \u001b[38;5;241m=\u001b[39m \u001b[43mh\u001b[49m\u001b[38;5;241;43m.\u001b[39;49m\u001b[43mgetresponse\u001b[49m\u001b[43m(\u001b[49m\u001b[43m)\u001b[49m\n\u001b[0;32m   1353\u001b[0m \u001b[38;5;28;01mexcept\u001b[39;00m:\n\u001b[0;32m   1354\u001b[0m     h\u001b[38;5;241m.\u001b[39mclose()\n",
      "File \u001b[1;32mc:\\Users\\gehou\\AppData\\Local\\Programs\\Python\\Python311\\Lib\\http\\client.py:1375\u001b[0m, in \u001b[0;36mHTTPConnection.getresponse\u001b[1;34m(self)\u001b[0m\n\u001b[0;32m   1373\u001b[0m \u001b[38;5;28;01mtry\u001b[39;00m:\n\u001b[0;32m   1374\u001b[0m     \u001b[38;5;28;01mtry\u001b[39;00m:\n\u001b[1;32m-> 1375\u001b[0m         \u001b[43mresponse\u001b[49m\u001b[38;5;241;43m.\u001b[39;49m\u001b[43mbegin\u001b[49m\u001b[43m(\u001b[49m\u001b[43m)\u001b[49m\n\u001b[0;32m   1376\u001b[0m     \u001b[38;5;28;01mexcept\u001b[39;00m \u001b[38;5;167;01mConnectionError\u001b[39;00m:\n\u001b[0;32m   1377\u001b[0m         \u001b[38;5;28mself\u001b[39m\u001b[38;5;241m.\u001b[39mclose()\n",
      "File \u001b[1;32mc:\\Users\\gehou\\AppData\\Local\\Programs\\Python\\Python311\\Lib\\http\\client.py:318\u001b[0m, in \u001b[0;36mHTTPResponse.begin\u001b[1;34m(self)\u001b[0m\n\u001b[0;32m    316\u001b[0m \u001b[38;5;66;03m# read until we get a non-100 response\u001b[39;00m\n\u001b[0;32m    317\u001b[0m \u001b[38;5;28;01mwhile\u001b[39;00m \u001b[38;5;28;01mTrue\u001b[39;00m:\n\u001b[1;32m--> 318\u001b[0m     version, status, reason \u001b[38;5;241m=\u001b[39m \u001b[38;5;28;43mself\u001b[39;49m\u001b[38;5;241;43m.\u001b[39;49m\u001b[43m_read_status\u001b[49m\u001b[43m(\u001b[49m\u001b[43m)\u001b[49m\n\u001b[0;32m    319\u001b[0m     \u001b[38;5;28;01mif\u001b[39;00m status \u001b[38;5;241m!=\u001b[39m CONTINUE:\n\u001b[0;32m    320\u001b[0m         \u001b[38;5;28;01mbreak\u001b[39;00m\n",
      "File \u001b[1;32mc:\\Users\\gehou\\AppData\\Local\\Programs\\Python\\Python311\\Lib\\http\\client.py:279\u001b[0m, in \u001b[0;36mHTTPResponse._read_status\u001b[1;34m(self)\u001b[0m\n\u001b[0;32m    278\u001b[0m \u001b[38;5;28;01mdef\u001b[39;00m \u001b[38;5;21m_read_status\u001b[39m(\u001b[38;5;28mself\u001b[39m):\n\u001b[1;32m--> 279\u001b[0m     line \u001b[38;5;241m=\u001b[39m \u001b[38;5;28mstr\u001b[39m(\u001b[38;5;28mself\u001b[39m\u001b[38;5;241m.\u001b[39mfp\u001b[38;5;241m.\u001b[39mreadline(_MAXLINE \u001b[38;5;241m+\u001b[39m \u001b[38;5;241m1\u001b[39m), \u001b[38;5;124m\"\u001b[39m\u001b[38;5;124miso-8859-1\u001b[39m\u001b[38;5;124m\"\u001b[39m)\n\u001b[0;32m    280\u001b[0m     \u001b[38;5;28;01mif\u001b[39;00m \u001b[38;5;28mlen\u001b[39m(line) \u001b[38;5;241m>\u001b[39m _MAXLINE:\n\u001b[0;32m    281\u001b[0m         \u001b[38;5;28;01mraise\u001b[39;00m LineTooLong(\u001b[38;5;124m\"\u001b[39m\u001b[38;5;124mstatus line\u001b[39m\u001b[38;5;124m\"\u001b[39m)\n",
      "File \u001b[1;32mc:\\Users\\gehou\\AppData\\Local\\Programs\\Python\\Python311\\Lib\\socket.py:706\u001b[0m, in \u001b[0;36mSocketIO.readinto\u001b[1;34m(self, b)\u001b[0m\n\u001b[0;32m    704\u001b[0m \u001b[38;5;28;01mwhile\u001b[39;00m \u001b[38;5;28;01mTrue\u001b[39;00m:\n\u001b[0;32m    705\u001b[0m     \u001b[38;5;28;01mtry\u001b[39;00m:\n\u001b[1;32m--> 706\u001b[0m         \u001b[38;5;28;01mreturn\u001b[39;00m \u001b[38;5;28;43mself\u001b[39;49m\u001b[38;5;241;43m.\u001b[39;49m\u001b[43m_sock\u001b[49m\u001b[38;5;241;43m.\u001b[39;49m\u001b[43mrecv_into\u001b[49m\u001b[43m(\u001b[49m\u001b[43mb\u001b[49m\u001b[43m)\u001b[49m\n\u001b[0;32m    707\u001b[0m     \u001b[38;5;28;01mexcept\u001b[39;00m timeout:\n\u001b[0;32m    708\u001b[0m         \u001b[38;5;28mself\u001b[39m\u001b[38;5;241m.\u001b[39m_timeout_occurred \u001b[38;5;241m=\u001b[39m \u001b[38;5;28;01mTrue\u001b[39;00m\n",
      "File \u001b[1;32mc:\\Users\\gehou\\AppData\\Local\\Programs\\Python\\Python311\\Lib\\ssl.py:1278\u001b[0m, in \u001b[0;36mSSLSocket.recv_into\u001b[1;34m(self, buffer, nbytes, flags)\u001b[0m\n\u001b[0;32m   1274\u001b[0m     \u001b[38;5;28;01mif\u001b[39;00m flags \u001b[38;5;241m!=\u001b[39m \u001b[38;5;241m0\u001b[39m:\n\u001b[0;32m   1275\u001b[0m         \u001b[38;5;28;01mraise\u001b[39;00m \u001b[38;5;167;01mValueError\u001b[39;00m(\n\u001b[0;32m   1276\u001b[0m           \u001b[38;5;124m\"\u001b[39m\u001b[38;5;124mnon-zero flags not allowed in calls to recv_into() on \u001b[39m\u001b[38;5;132;01m%s\u001b[39;00m\u001b[38;5;124m\"\u001b[39m \u001b[38;5;241m%\u001b[39m\n\u001b[0;32m   1277\u001b[0m           \u001b[38;5;28mself\u001b[39m\u001b[38;5;241m.\u001b[39m\u001b[38;5;18m__class__\u001b[39m)\n\u001b[1;32m-> 1278\u001b[0m     \u001b[38;5;28;01mreturn\u001b[39;00m \u001b[38;5;28;43mself\u001b[39;49m\u001b[38;5;241;43m.\u001b[39;49m\u001b[43mread\u001b[49m\u001b[43m(\u001b[49m\u001b[43mnbytes\u001b[49m\u001b[43m,\u001b[49m\u001b[43m \u001b[49m\u001b[43mbuffer\u001b[49m\u001b[43m)\u001b[49m\n\u001b[0;32m   1279\u001b[0m \u001b[38;5;28;01melse\u001b[39;00m:\n\u001b[0;32m   1280\u001b[0m     \u001b[38;5;28;01mreturn\u001b[39;00m \u001b[38;5;28msuper\u001b[39m()\u001b[38;5;241m.\u001b[39mrecv_into(buffer, nbytes, flags)\n",
      "File \u001b[1;32mc:\\Users\\gehou\\AppData\\Local\\Programs\\Python\\Python311\\Lib\\ssl.py:1134\u001b[0m, in \u001b[0;36mSSLSocket.read\u001b[1;34m(self, len, buffer)\u001b[0m\n\u001b[0;32m   1132\u001b[0m \u001b[38;5;28;01mtry\u001b[39;00m:\n\u001b[0;32m   1133\u001b[0m     \u001b[38;5;28;01mif\u001b[39;00m buffer \u001b[38;5;129;01mis\u001b[39;00m \u001b[38;5;129;01mnot\u001b[39;00m \u001b[38;5;28;01mNone\u001b[39;00m:\n\u001b[1;32m-> 1134\u001b[0m         \u001b[38;5;28;01mreturn\u001b[39;00m \u001b[38;5;28;43mself\u001b[39;49m\u001b[38;5;241;43m.\u001b[39;49m\u001b[43m_sslobj\u001b[49m\u001b[38;5;241;43m.\u001b[39;49m\u001b[43mread\u001b[49m\u001b[43m(\u001b[49m\u001b[38;5;28;43mlen\u001b[39;49m\u001b[43m,\u001b[49m\u001b[43m \u001b[49m\u001b[43mbuffer\u001b[49m\u001b[43m)\u001b[49m\n\u001b[0;32m   1135\u001b[0m     \u001b[38;5;28;01melse\u001b[39;00m:\n\u001b[0;32m   1136\u001b[0m         \u001b[38;5;28;01mreturn\u001b[39;00m \u001b[38;5;28mself\u001b[39m\u001b[38;5;241m.\u001b[39m_sslobj\u001b[38;5;241m.\u001b[39mread(\u001b[38;5;28mlen\u001b[39m)\n",
      "\u001b[1;31mKeyboardInterrupt\u001b[0m: "
     ]
    }
   ],
   "source": [
    "import time\n",
    "\n",
    "max_power = 30\n",
    "url_power = 'https://studentswebservice-7w3tw.ondigitalocean.app/power?kW='\n",
    "\n",
    "for i in range(0, 100):\n",
    "    \n",
    "    response = urllib.request.urlopen(url_frequency).read()\n",
    "    data = json.loads(response)\n",
    "    frequency = data['frequency']\n",
    "    power = checkingHertz(frequency) * max_power\n",
    "    if power != 0:\n",
    "        responsePOWER = urllib.request.urlopen(url_power + str(power)).read()\n",
    "        print('frequency:', frequency, '  power: ', power, 'L?: ', responsePOWER)\n",
    "    time.sleep(0.1)\n"
   ]
  },
  {
   "cell_type": "markdown",
   "id": "992586a5",
   "metadata": {},
   "source": [
    "# Part 3 for 6B Challenge"
   ]
  },
  {
   "cell_type": "code",
   "execution_count": 46,
   "id": "fdb8cb11",
   "metadata": {},
   "outputs": [
    {
     "name": "stdout",
     "output_type": "stream",
     "text": [
      "frequency: 53.40000000000006   power:  -30.0 Battery status:  25000.008333333335 WH  respond from grid:  b'{\"frequency\":53.100000000000065,\"timestampUtc\":\"2025-05-09T20:00:23.838114\"}\\n'\n",
      "frequency: 53.100000000000065   power:  -30.0 Battery status:  25000.01666666667 WH  respond from grid:  b'{\"frequency\":52.80000000000007,\"timestampUtc\":\"2025-05-09T20:00:24.666116\"}\\n'\n",
      "frequency: 52.80000000000007   power:  -30.0 Battery status:  25000.025000000005 WH  respond from grid:  b'{\"frequency\":52.50000000000007,\"timestampUtc\":\"2025-05-09T20:00:25.597322\"}\\n'\n",
      "frequency: 52.50000000000007   power:  -30.0 Battery status:  25000.03333333334 WH  respond from grid:  b'{\"frequency\":52.200000000000074,\"timestampUtc\":\"2025-05-09T20:00:26.415011\"}\\n'\n",
      "frequency: 52.200000000000074   power:  -26.40000000000089 Battery status:  25000.040666666675 WH  respond from grid:  b'{\"frequency\":51.936000000000064,\"timestampUtc\":\"2025-05-09T20:00:27.316590\"}\\n'\n",
      "frequency: 51.936000000000064   power:  -23.232000000000767 Battery status:  25000.047120000007 WH  respond from grid:  b'{\"frequency\":51.703680000000055,\"timestampUtc\":\"2025-05-09T20:00:28.335964\"}\\n'\n",
      "frequency: 51.703680000000055   power:  -20.44416000000066 Battery status:  25000.05279893334 WH  respond from grid:  b'{\"frequency\":51.499238400000046,\"timestampUtc\":\"2025-05-09T20:00:29.275858\"}\\n'\n",
      "frequency: 51.499238400000046   power:  -17.99086080000055 Battery status:  25000.05779639467 WH  respond from grid:  b'{\"frequency\":51.31932979200004,\"timestampUtc\":\"2025-05-09T20:00:30.274179\"}\\n'\n",
      "frequency: 51.31932979200004   power:  -15.831957504000481 Battery status:  25000.062194160644 WH  respond from grid:  b'{\"frequency\":51.16101021696004,\"timestampUtc\":\"2025-05-09T20:00:31.305312\"}\\n'\n",
      "frequency: 51.16101021696004   power:  -13.93212260352044 Battery status:  25000.0660641947 WH  respond from grid:  b'{\"frequency\":51.02168899092483,\"timestampUtc\":\"2025-05-09T20:00:32.096893\"}\\n'\n",
      "frequency: 51.02168899092483   power:  -12.260267891097953 Battery status:  25000.06946982467 WH  respond from grid:  b'{\"frequency\":50.89908631201385,\"timestampUtc\":\"2025-05-09T20:00:32.948106\"}\\n'\n",
      "frequency: 50.89908631201385   power:  -10.789035744166197 Battery status:  25000.072466779042 WH  respond from grid:  b'{\"frequency\":50.79119595457219,\"timestampUtc\":\"2025-05-09T20:00:33.958322\"}\\n'\n",
      "frequency: 50.79119595457219   power:  -9.494351454866264 Battery status:  25000.07510409889 WH  respond from grid:  b'{\"frequency\":50.69625244002353,\"timestampUtc\":\"2025-05-09T20:00:34.987418\"}\\n'\n",
      "frequency: 50.69625244002353   power:  -8.355029280282338 Battery status:  25000.07742494036 WH  respond from grid:  b'{\"frequency\":50.6127021472207,\"timestampUtc\":\"2025-05-09T20:00:35.990351\"}\\n'\n",
      "frequency: 50.6127021472207   power:  -7.3524257666484205 Battery status:  25000.079467280848 WH  respond from grid:  b'{\"frequency\":50.53917788955422,\"timestampUtc\":\"2025-05-09T20:00:36.809372\"}\\n'\n",
      "frequency: 50.53917788955422   power:  -6.470134674650612 Battery status:  25000.08126454048 WH  respond from grid:  b'{\"frequency\":50.474476542807714,\"timestampUtc\":\"2025-05-09T20:00:37.661441\"}\\n'\n",
      "frequency: 50.474476542807714   power:  -5.693718513692576 Battery status:  25000.082846128957 WH  respond from grid:  b'{\"frequency\":50.41753935767079,\"timestampUtc\":\"2025-05-09T20:00:38.669717\"}\\n'\n",
      "frequency: 50.41753935767079   power:  -5.010472292049483 Battery status:  25000.084237926814 WH  respond from grid:  b'{\"frequency\":50.367434634750296,\"timestampUtc\":\"2025-05-09T20:00:39.459004\"}\\n'\n",
      "frequency: 50.367434634750296   power:  -4.409215617003552 Battery status:  25000.08546270893 WH  respond from grid:  b'{\"frequency\":50.32334247858026,\"timestampUtc\":\"2025-05-09T20:00:40.296628\"}\\n'\n",
      "frequency: 50.32334247858026   power:  -3.8801097429631026 Battery status:  25000.08654051719 WH  respond from grid:  b'{\"frequency\":50.284541381150625,\"timestampUtc\":\"2025-05-09T20:00:41.196657\"}\\n'\n",
      "frequency: 50.284541381150625   power:  -3.4144965738074973 Battery status:  25000.08748898846 WH  respond from grid:  b'{\"frequency\":50.25039641541255,\"timestampUtc\":\"2025-05-09T20:00:42.091866\"}\\n'\n",
      "frequency: 50.25039641541255   power:  -3.0047569849506317 Battery status:  25000.08832364318 WH  respond from grid:  b'{\"frequency\":50.220348845563045,\"timestampUtc\":\"2025-05-09T20:00:43.160387\"}\\n'\n",
      "frequency: 50.220348845563045   power:  -2.6441861467565375 Battery status:  25000.089058139332 WH  respond from grid:  b'{\"frequency\":50.19390698409548,\"timestampUtc\":\"2025-05-09T20:00:43.960714\"}\\n'\n"
     ]
    },
    {
     "ename": "KeyboardInterrupt",
     "evalue": "",
     "output_type": "error",
     "traceback": [
      "\u001b[1;31m---------------------------------------------------------------------------\u001b[0m",
      "\u001b[1;31mKeyboardInterrupt\u001b[0m                         Traceback (most recent call last)",
      "Cell \u001b[1;32mIn[46], line 12\u001b[0m\n\u001b[0;32m      8\u001b[0m curentlyBatCap \u001b[38;5;241m=\u001b[39m \u001b[38;5;241m25000\u001b[39m\n\u001b[0;32m     10\u001b[0m \u001b[38;5;28;01mfor\u001b[39;00m i \u001b[38;5;129;01min\u001b[39;00m \u001b[38;5;28mrange\u001b[39m(\u001b[38;5;241m0\u001b[39m, \u001b[38;5;241m100\u001b[39m):\n\u001b[1;32m---> 12\u001b[0m     response \u001b[38;5;241m=\u001b[39m \u001b[43murllib\u001b[49m\u001b[38;5;241;43m.\u001b[39;49m\u001b[43mrequest\u001b[49m\u001b[38;5;241;43m.\u001b[39;49m\u001b[43murlopen\u001b[49m\u001b[43m(\u001b[49m\u001b[43murl_frequency\u001b[49m\u001b[43m)\u001b[49m\u001b[38;5;241m.\u001b[39mread()\n\u001b[0;32m     13\u001b[0m     data \u001b[38;5;241m=\u001b[39m json\u001b[38;5;241m.\u001b[39mloads(response)\n\u001b[0;32m     14\u001b[0m     frequency \u001b[38;5;241m=\u001b[39m data[\u001b[38;5;124m\"\u001b[39m\u001b[38;5;124mfrequency\u001b[39m\u001b[38;5;124m\"\u001b[39m]\n",
      "File \u001b[1;32mc:\\Users\\gehou\\AppData\\Local\\Programs\\Python\\Python311\\Lib\\urllib\\request.py:216\u001b[0m, in \u001b[0;36murlopen\u001b[1;34m(url, data, timeout, cafile, capath, cadefault, context)\u001b[0m\n\u001b[0;32m    214\u001b[0m \u001b[38;5;28;01melse\u001b[39;00m:\n\u001b[0;32m    215\u001b[0m     opener \u001b[38;5;241m=\u001b[39m _opener\n\u001b[1;32m--> 216\u001b[0m \u001b[38;5;28;01mreturn\u001b[39;00m \u001b[43mopener\u001b[49m\u001b[38;5;241;43m.\u001b[39;49m\u001b[43mopen\u001b[49m\u001b[43m(\u001b[49m\u001b[43murl\u001b[49m\u001b[43m,\u001b[49m\u001b[43m \u001b[49m\u001b[43mdata\u001b[49m\u001b[43m,\u001b[49m\u001b[43m \u001b[49m\u001b[43mtimeout\u001b[49m\u001b[43m)\u001b[49m\n",
      "File \u001b[1;32mc:\\Users\\gehou\\AppData\\Local\\Programs\\Python\\Python311\\Lib\\urllib\\request.py:519\u001b[0m, in \u001b[0;36mOpenerDirector.open\u001b[1;34m(self, fullurl, data, timeout)\u001b[0m\n\u001b[0;32m    516\u001b[0m     req \u001b[38;5;241m=\u001b[39m meth(req)\n\u001b[0;32m    518\u001b[0m sys\u001b[38;5;241m.\u001b[39maudit(\u001b[38;5;124m'\u001b[39m\u001b[38;5;124murllib.Request\u001b[39m\u001b[38;5;124m'\u001b[39m, req\u001b[38;5;241m.\u001b[39mfull_url, req\u001b[38;5;241m.\u001b[39mdata, req\u001b[38;5;241m.\u001b[39mheaders, req\u001b[38;5;241m.\u001b[39mget_method())\n\u001b[1;32m--> 519\u001b[0m response \u001b[38;5;241m=\u001b[39m \u001b[38;5;28;43mself\u001b[39;49m\u001b[38;5;241;43m.\u001b[39;49m\u001b[43m_open\u001b[49m\u001b[43m(\u001b[49m\u001b[43mreq\u001b[49m\u001b[43m,\u001b[49m\u001b[43m \u001b[49m\u001b[43mdata\u001b[49m\u001b[43m)\u001b[49m\n\u001b[0;32m    521\u001b[0m \u001b[38;5;66;03m# post-process response\u001b[39;00m\n\u001b[0;32m    522\u001b[0m meth_name \u001b[38;5;241m=\u001b[39m protocol\u001b[38;5;241m+\u001b[39m\u001b[38;5;124m\"\u001b[39m\u001b[38;5;124m_response\u001b[39m\u001b[38;5;124m\"\u001b[39m\n",
      "File \u001b[1;32mc:\\Users\\gehou\\AppData\\Local\\Programs\\Python\\Python311\\Lib\\urllib\\request.py:536\u001b[0m, in \u001b[0;36mOpenerDirector._open\u001b[1;34m(self, req, data)\u001b[0m\n\u001b[0;32m    533\u001b[0m     \u001b[38;5;28;01mreturn\u001b[39;00m result\n\u001b[0;32m    535\u001b[0m protocol \u001b[38;5;241m=\u001b[39m req\u001b[38;5;241m.\u001b[39mtype\n\u001b[1;32m--> 536\u001b[0m result \u001b[38;5;241m=\u001b[39m \u001b[38;5;28;43mself\u001b[39;49m\u001b[38;5;241;43m.\u001b[39;49m\u001b[43m_call_chain\u001b[49m\u001b[43m(\u001b[49m\u001b[38;5;28;43mself\u001b[39;49m\u001b[38;5;241;43m.\u001b[39;49m\u001b[43mhandle_open\u001b[49m\u001b[43m,\u001b[49m\u001b[43m \u001b[49m\u001b[43mprotocol\u001b[49m\u001b[43m,\u001b[49m\u001b[43m \u001b[49m\u001b[43mprotocol\u001b[49m\u001b[43m \u001b[49m\u001b[38;5;241;43m+\u001b[39;49m\n\u001b[0;32m    537\u001b[0m \u001b[43m                          \u001b[49m\u001b[38;5;124;43m'\u001b[39;49m\u001b[38;5;124;43m_open\u001b[39;49m\u001b[38;5;124;43m'\u001b[39;49m\u001b[43m,\u001b[49m\u001b[43m \u001b[49m\u001b[43mreq\u001b[49m\u001b[43m)\u001b[49m\n\u001b[0;32m    538\u001b[0m \u001b[38;5;28;01mif\u001b[39;00m result:\n\u001b[0;32m    539\u001b[0m     \u001b[38;5;28;01mreturn\u001b[39;00m result\n",
      "File \u001b[1;32mc:\\Users\\gehou\\AppData\\Local\\Programs\\Python\\Python311\\Lib\\urllib\\request.py:496\u001b[0m, in \u001b[0;36mOpenerDirector._call_chain\u001b[1;34m(self, chain, kind, meth_name, *args)\u001b[0m\n\u001b[0;32m    494\u001b[0m \u001b[38;5;28;01mfor\u001b[39;00m handler \u001b[38;5;129;01min\u001b[39;00m handlers:\n\u001b[0;32m    495\u001b[0m     func \u001b[38;5;241m=\u001b[39m \u001b[38;5;28mgetattr\u001b[39m(handler, meth_name)\n\u001b[1;32m--> 496\u001b[0m     result \u001b[38;5;241m=\u001b[39m \u001b[43mfunc\u001b[49m\u001b[43m(\u001b[49m\u001b[38;5;241;43m*\u001b[39;49m\u001b[43margs\u001b[49m\u001b[43m)\u001b[49m\n\u001b[0;32m    497\u001b[0m     \u001b[38;5;28;01mif\u001b[39;00m result \u001b[38;5;129;01mis\u001b[39;00m \u001b[38;5;129;01mnot\u001b[39;00m \u001b[38;5;28;01mNone\u001b[39;00m:\n\u001b[0;32m    498\u001b[0m         \u001b[38;5;28;01mreturn\u001b[39;00m result\n",
      "File \u001b[1;32mc:\\Users\\gehou\\AppData\\Local\\Programs\\Python\\Python311\\Lib\\urllib\\request.py:1391\u001b[0m, in \u001b[0;36mHTTPSHandler.https_open\u001b[1;34m(self, req)\u001b[0m\n\u001b[0;32m   1390\u001b[0m \u001b[38;5;28;01mdef\u001b[39;00m \u001b[38;5;21mhttps_open\u001b[39m(\u001b[38;5;28mself\u001b[39m, req):\n\u001b[1;32m-> 1391\u001b[0m     \u001b[38;5;28;01mreturn\u001b[39;00m \u001b[38;5;28;43mself\u001b[39;49m\u001b[38;5;241;43m.\u001b[39;49m\u001b[43mdo_open\u001b[49m\u001b[43m(\u001b[49m\u001b[43mhttp\u001b[49m\u001b[38;5;241;43m.\u001b[39;49m\u001b[43mclient\u001b[49m\u001b[38;5;241;43m.\u001b[39;49m\u001b[43mHTTPSConnection\u001b[49m\u001b[43m,\u001b[49m\u001b[43m \u001b[49m\u001b[43mreq\u001b[49m\u001b[43m,\u001b[49m\n\u001b[0;32m   1392\u001b[0m \u001b[43m        \u001b[49m\u001b[43mcontext\u001b[49m\u001b[38;5;241;43m=\u001b[39;49m\u001b[38;5;28;43mself\u001b[39;49m\u001b[38;5;241;43m.\u001b[39;49m\u001b[43m_context\u001b[49m\u001b[43m,\u001b[49m\u001b[43m \u001b[49m\u001b[43mcheck_hostname\u001b[49m\u001b[38;5;241;43m=\u001b[39;49m\u001b[38;5;28;43mself\u001b[39;49m\u001b[38;5;241;43m.\u001b[39;49m\u001b[43m_check_hostname\u001b[49m\u001b[43m)\u001b[49m\n",
      "File \u001b[1;32mc:\\Users\\gehou\\AppData\\Local\\Programs\\Python\\Python311\\Lib\\urllib\\request.py:1352\u001b[0m, in \u001b[0;36mAbstractHTTPHandler.do_open\u001b[1;34m(self, http_class, req, **http_conn_args)\u001b[0m\n\u001b[0;32m   1350\u001b[0m     \u001b[38;5;28;01mexcept\u001b[39;00m \u001b[38;5;167;01mOSError\u001b[39;00m \u001b[38;5;28;01mas\u001b[39;00m err: \u001b[38;5;66;03m# timeout error\u001b[39;00m\n\u001b[0;32m   1351\u001b[0m         \u001b[38;5;28;01mraise\u001b[39;00m URLError(err)\n\u001b[1;32m-> 1352\u001b[0m     r \u001b[38;5;241m=\u001b[39m \u001b[43mh\u001b[49m\u001b[38;5;241;43m.\u001b[39;49m\u001b[43mgetresponse\u001b[49m\u001b[43m(\u001b[49m\u001b[43m)\u001b[49m\n\u001b[0;32m   1353\u001b[0m \u001b[38;5;28;01mexcept\u001b[39;00m:\n\u001b[0;32m   1354\u001b[0m     h\u001b[38;5;241m.\u001b[39mclose()\n",
      "File \u001b[1;32mc:\\Users\\gehou\\AppData\\Local\\Programs\\Python\\Python311\\Lib\\http\\client.py:1375\u001b[0m, in \u001b[0;36mHTTPConnection.getresponse\u001b[1;34m(self)\u001b[0m\n\u001b[0;32m   1373\u001b[0m \u001b[38;5;28;01mtry\u001b[39;00m:\n\u001b[0;32m   1374\u001b[0m     \u001b[38;5;28;01mtry\u001b[39;00m:\n\u001b[1;32m-> 1375\u001b[0m         \u001b[43mresponse\u001b[49m\u001b[38;5;241;43m.\u001b[39;49m\u001b[43mbegin\u001b[49m\u001b[43m(\u001b[49m\u001b[43m)\u001b[49m\n\u001b[0;32m   1376\u001b[0m     \u001b[38;5;28;01mexcept\u001b[39;00m \u001b[38;5;167;01mConnectionError\u001b[39;00m:\n\u001b[0;32m   1377\u001b[0m         \u001b[38;5;28mself\u001b[39m\u001b[38;5;241m.\u001b[39mclose()\n",
      "File \u001b[1;32mc:\\Users\\gehou\\AppData\\Local\\Programs\\Python\\Python311\\Lib\\http\\client.py:318\u001b[0m, in \u001b[0;36mHTTPResponse.begin\u001b[1;34m(self)\u001b[0m\n\u001b[0;32m    316\u001b[0m \u001b[38;5;66;03m# read until we get a non-100 response\u001b[39;00m\n\u001b[0;32m    317\u001b[0m \u001b[38;5;28;01mwhile\u001b[39;00m \u001b[38;5;28;01mTrue\u001b[39;00m:\n\u001b[1;32m--> 318\u001b[0m     version, status, reason \u001b[38;5;241m=\u001b[39m \u001b[38;5;28;43mself\u001b[39;49m\u001b[38;5;241;43m.\u001b[39;49m\u001b[43m_read_status\u001b[49m\u001b[43m(\u001b[49m\u001b[43m)\u001b[49m\n\u001b[0;32m    319\u001b[0m     \u001b[38;5;28;01mif\u001b[39;00m status \u001b[38;5;241m!=\u001b[39m CONTINUE:\n\u001b[0;32m    320\u001b[0m         \u001b[38;5;28;01mbreak\u001b[39;00m\n",
      "File \u001b[1;32mc:\\Users\\gehou\\AppData\\Local\\Programs\\Python\\Python311\\Lib\\http\\client.py:279\u001b[0m, in \u001b[0;36mHTTPResponse._read_status\u001b[1;34m(self)\u001b[0m\n\u001b[0;32m    278\u001b[0m \u001b[38;5;28;01mdef\u001b[39;00m \u001b[38;5;21m_read_status\u001b[39m(\u001b[38;5;28mself\u001b[39m):\n\u001b[1;32m--> 279\u001b[0m     line \u001b[38;5;241m=\u001b[39m \u001b[38;5;28mstr\u001b[39m(\u001b[38;5;28mself\u001b[39m\u001b[38;5;241m.\u001b[39mfp\u001b[38;5;241m.\u001b[39mreadline(_MAXLINE \u001b[38;5;241m+\u001b[39m \u001b[38;5;241m1\u001b[39m), \u001b[38;5;124m\"\u001b[39m\u001b[38;5;124miso-8859-1\u001b[39m\u001b[38;5;124m\"\u001b[39m)\n\u001b[0;32m    280\u001b[0m     \u001b[38;5;28;01mif\u001b[39;00m \u001b[38;5;28mlen\u001b[39m(line) \u001b[38;5;241m>\u001b[39m _MAXLINE:\n\u001b[0;32m    281\u001b[0m         \u001b[38;5;28;01mraise\u001b[39;00m LineTooLong(\u001b[38;5;124m\"\u001b[39m\u001b[38;5;124mstatus line\u001b[39m\u001b[38;5;124m\"\u001b[39m)\n",
      "File \u001b[1;32mc:\\Users\\gehou\\AppData\\Local\\Programs\\Python\\Python311\\Lib\\socket.py:706\u001b[0m, in \u001b[0;36mSocketIO.readinto\u001b[1;34m(self, b)\u001b[0m\n\u001b[0;32m    704\u001b[0m \u001b[38;5;28;01mwhile\u001b[39;00m \u001b[38;5;28;01mTrue\u001b[39;00m:\n\u001b[0;32m    705\u001b[0m     \u001b[38;5;28;01mtry\u001b[39;00m:\n\u001b[1;32m--> 706\u001b[0m         \u001b[38;5;28;01mreturn\u001b[39;00m \u001b[38;5;28;43mself\u001b[39;49m\u001b[38;5;241;43m.\u001b[39;49m\u001b[43m_sock\u001b[49m\u001b[38;5;241;43m.\u001b[39;49m\u001b[43mrecv_into\u001b[49m\u001b[43m(\u001b[49m\u001b[43mb\u001b[49m\u001b[43m)\u001b[49m\n\u001b[0;32m    707\u001b[0m     \u001b[38;5;28;01mexcept\u001b[39;00m timeout:\n\u001b[0;32m    708\u001b[0m         \u001b[38;5;28mself\u001b[39m\u001b[38;5;241m.\u001b[39m_timeout_occurred \u001b[38;5;241m=\u001b[39m \u001b[38;5;28;01mTrue\u001b[39;00m\n",
      "File \u001b[1;32mc:\\Users\\gehou\\AppData\\Local\\Programs\\Python\\Python311\\Lib\\ssl.py:1278\u001b[0m, in \u001b[0;36mSSLSocket.recv_into\u001b[1;34m(self, buffer, nbytes, flags)\u001b[0m\n\u001b[0;32m   1274\u001b[0m     \u001b[38;5;28;01mif\u001b[39;00m flags \u001b[38;5;241m!=\u001b[39m \u001b[38;5;241m0\u001b[39m:\n\u001b[0;32m   1275\u001b[0m         \u001b[38;5;28;01mraise\u001b[39;00m \u001b[38;5;167;01mValueError\u001b[39;00m(\n\u001b[0;32m   1276\u001b[0m           \u001b[38;5;124m\"\u001b[39m\u001b[38;5;124mnon-zero flags not allowed in calls to recv_into() on \u001b[39m\u001b[38;5;132;01m%s\u001b[39;00m\u001b[38;5;124m\"\u001b[39m \u001b[38;5;241m%\u001b[39m\n\u001b[0;32m   1277\u001b[0m           \u001b[38;5;28mself\u001b[39m\u001b[38;5;241m.\u001b[39m\u001b[38;5;18m__class__\u001b[39m)\n\u001b[1;32m-> 1278\u001b[0m     \u001b[38;5;28;01mreturn\u001b[39;00m \u001b[38;5;28;43mself\u001b[39;49m\u001b[38;5;241;43m.\u001b[39;49m\u001b[43mread\u001b[49m\u001b[43m(\u001b[49m\u001b[43mnbytes\u001b[49m\u001b[43m,\u001b[49m\u001b[43m \u001b[49m\u001b[43mbuffer\u001b[49m\u001b[43m)\u001b[49m\n\u001b[0;32m   1279\u001b[0m \u001b[38;5;28;01melse\u001b[39;00m:\n\u001b[0;32m   1280\u001b[0m     \u001b[38;5;28;01mreturn\u001b[39;00m \u001b[38;5;28msuper\u001b[39m()\u001b[38;5;241m.\u001b[39mrecv_into(buffer, nbytes, flags)\n",
      "File \u001b[1;32mc:\\Users\\gehou\\AppData\\Local\\Programs\\Python\\Python311\\Lib\\ssl.py:1134\u001b[0m, in \u001b[0;36mSSLSocket.read\u001b[1;34m(self, len, buffer)\u001b[0m\n\u001b[0;32m   1132\u001b[0m \u001b[38;5;28;01mtry\u001b[39;00m:\n\u001b[0;32m   1133\u001b[0m     \u001b[38;5;28;01mif\u001b[39;00m buffer \u001b[38;5;129;01mis\u001b[39;00m \u001b[38;5;129;01mnot\u001b[39;00m \u001b[38;5;28;01mNone\u001b[39;00m:\n\u001b[1;32m-> 1134\u001b[0m         \u001b[38;5;28;01mreturn\u001b[39;00m \u001b[38;5;28;43mself\u001b[39;49m\u001b[38;5;241;43m.\u001b[39;49m\u001b[43m_sslobj\u001b[49m\u001b[38;5;241;43m.\u001b[39;49m\u001b[43mread\u001b[49m\u001b[43m(\u001b[49m\u001b[38;5;28;43mlen\u001b[39;49m\u001b[43m,\u001b[49m\u001b[43m \u001b[49m\u001b[43mbuffer\u001b[49m\u001b[43m)\u001b[49m\n\u001b[0;32m   1135\u001b[0m     \u001b[38;5;28;01melse\u001b[39;00m:\n\u001b[0;32m   1136\u001b[0m         \u001b[38;5;28;01mreturn\u001b[39;00m \u001b[38;5;28mself\u001b[39m\u001b[38;5;241m.\u001b[39m_sslobj\u001b[38;5;241m.\u001b[39mread(\u001b[38;5;28mlen\u001b[39m)\n",
      "\u001b[1;31mKeyboardInterrupt\u001b[0m: "
     ]
    }
   ],
   "source": [
    "import time\n",
    "\n",
    "max_power = 30\n",
    "url_power = \"https://studentswebservice-7w3tw.ondigitalocean.app/power?kW=\"\n",
    "\n",
    "# Battery part\n",
    "maxBatteryCap = 50000\n",
    "curentlyBatCap = 25000\n",
    "\n",
    "for i in range(0, 100):\n",
    "\n",
    "    response = urllib.request.urlopen(url_frequency).read()\n",
    "    data = json.loads(response)\n",
    "    frequency = data[\"frequency\"]\n",
    "    power = checkingHertz(frequency) * max_power\n",
    "    if power != 0:\n",
    "        curentlyBatCap -= (power / 60) / 60\n",
    "\n",
    "        if curentlyBatCap > maxBatteryCap :\n",
    "            curentlyBatCap = maxBatteryCap\n",
    "\n",
    "        if curentlyBatCap < 0:\n",
    "            curentlyBatCap = 0\n",
    "\n",
    "        if power > 0 and curentlyBatCap == 0:\n",
    "            print(\"The battery is out of energy\")\n",
    "            continue\n",
    "\n",
    "        if power < 0 and curentlyBatCap == maxBatteryCap:\n",
    "            print(\"Battery is completely full\")\n",
    "            continue\n",
    "\n",
    "\n",
    "\n",
    "        responsePOWER = urllib.request.urlopen(url_power + str(power)).read()\n",
    "        print(\n",
    "            \"frequency:\",\n",
    "            frequency,\n",
    "            \"  power: \",\n",
    "            power,\n",
    "            \"Battery status: \",\n",
    "            curentlyBatCap,\n",
    "            \"WH \",\n",
    "            \"respond from grid: \",\n",
    "            responsePOWER,\n",
    "        )\n",
    "    time.sleep(0.1)"
   ]
  }
 ],
 "metadata": {
  "kernelspec": {
   "display_name": "Python 3",
   "language": "python",
   "name": "python3"
  },
  "language_info": {
   "codemirror_mode": {
    "name": "ipython",
    "version": 3
   },
   "file_extension": ".py",
   "mimetype": "text/x-python",
   "name": "python",
   "nbconvert_exporter": "python",
   "pygments_lexer": "ipython3",
   "version": "3.11.3"
  }
 },
 "nbformat": 4,
 "nbformat_minor": 5
}
